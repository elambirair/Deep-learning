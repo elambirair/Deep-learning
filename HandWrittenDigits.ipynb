{
 "cells": [
  {
   "cell_type": "code",
   "execution_count": 60,
   "id": "f7a8f9c7-3b5f-4fb6-af4f-d1b833ef2ed4",
   "metadata": {},
   "outputs": [],
   "source": [
    "import random\n",
    "import numpy as np\n",
    "\n"
   ]
  },
  {
   "cell_type": "code",
   "execution_count": 61,
   "id": "9c5b65cf-8c23-4004-8f86-84adce247202",
   "metadata": {},
   "outputs": [],
   "source": [
    "#activation function\n",
    "def sigmoid(z):\n",
    "    return 1.0/(1.0+np.exp(-z))"
   ]
  },
  {
   "cell_type": "code",
   "execution_count": 83,
   "id": "53520570-3420-44bc-985e-f63b8364c35b",
   "metadata": {},
   "outputs": [],
   "source": [
    "class Network(object):\n",
    "    \n",
    "    def __init__(self, sizes):#sizes should be list\n",
    "        self.noOfLayers=len(sizes)\n",
    "        self.sizes=sizes\n",
    "        self.bias=[np.random.randn(y,1) for y in sizes[1:]]\n",
    "        self.weight=[np.random.randn(x,y) for x,y in zip(sizes[:-1], sizes[1:])]\n",
    "        \n",
    "    def feedforward(self, a):\n",
    "        for w,b in zip(self.weight, self.bias):\n",
    "            sigmoid(np.dot(w,a)+b) #activation function\n",
    "            return a\n",
    "        \n",
    "    def SGD(self, training_data, epoche, mini_patch_size, eta, test_data):\n",
    "        if test_data:n_test=len(test_data)\n",
    "        n=len(training_data)\n",
    "        for j in range(epoche):\n",
    "            random.shuffle(training_data)\n",
    "            mini_batches=[training_data[k:k+mini_patch_size] for k in range(0, n, mini_patch_size)]\n",
    "            for mini_batch in mini_batches:\n",
    "                self.update_mini_batch_size(mini_batch,eta)\n",
    "            if test_data:\n",
    "                print (\"Epoch {0}: {1} / {2}\".format(j, self.evaluate(test_data), n_test))\n",
    "            else:\n",
    "                print (\"Epoch {0} complete\".format(j))\n",
    "                \n",
    "    def update_mini_batch_size(self, mini_batch, eta):\n",
    "        \n",
    "        nebla_w=[np.zeros(w.shape) for w in self.weight]\n",
    "        nebla_b=[np.zeros(b.shape) for b in self.bias]\n",
    "        for x,y in mini_batch:\n",
    "            delta_nabla_w,delta_nabla_b=self.backprop(x,y)\n",
    "            nebla_w=[nw+dnw for nw,dnw in zip(nebla_w,delta_nabla_w)]\n",
    "            nebla_b=[nb+dnb for nb,dnb in zip(nebla_b,delta_nabla_b)]\n",
    "            \n",
    "    "
   ]
  },
  {
   "cell_type": "code",
   "execution_count": 63,
   "id": "d60f2ae5-3c00-44cd-b734-f264c591c659",
   "metadata": {},
   "outputs": [
    {
     "data": {
      "text/plain": [
       "[2, 5]"
      ]
     },
     "execution_count": 63,
     "metadata": {},
     "output_type": "execute_result"
    }
   ],
   "source": [
    "s=[2,5,5]\n",
    "s[:-1]"
   ]
  },
  {
   "cell_type": "code",
   "execution_count": 64,
   "id": "98918730-c552-4dfa-9e0a-e98b99954b43",
   "metadata": {},
   "outputs": [],
   "source": [
    "a=1\n",
    "b=5"
   ]
  },
  {
   "cell_type": "code",
   "execution_count": 65,
   "id": "ffbb18a9-53a0-43f1-8f06-51dc604bebb9",
   "metadata": {},
   "outputs": [],
   "source": [
    "if a:b=1\n"
   ]
  },
  {
   "cell_type": "code",
   "execution_count": 66,
   "id": "b7a135ab-b216-401d-ad2d-c1cca75c3143",
   "metadata": {},
   "outputs": [
    {
     "data": {
      "text/plain": [
       "0"
      ]
     },
     "execution_count": 66,
     "metadata": {},
     "output_type": "execute_result"
    }
   ],
   "source": [
    "range(10)[0]"
   ]
  },
  {
   "cell_type": "code",
   "execution_count": 74,
   "id": "cd908884-2200-4b8b-b280-910b515725bf",
   "metadata": {},
   "outputs": [
    {
     "data": {
      "text/plain": [
       "<__main__.Network at 0x7fe5cf7ccf10>"
      ]
     },
     "execution_count": 74,
     "metadata": {},
     "output_type": "execute_result"
    }
   ],
   "source": [
    "Network([10,8,6])"
   ]
  },
  {
   "cell_type": "code",
   "execution_count": 75,
   "id": "dc598a2d-bd34-4b7e-bc62-0458262dc550",
   "metadata": {},
   "outputs": [],
   "source": [
    "a=range(10)"
   ]
  },
  {
   "cell_type": "code",
   "execution_count": 76,
   "id": "172c10a8-2cac-4718-87fd-a7d2f2901269",
   "metadata": {},
   "outputs": [
    {
     "ename": "TypeError",
     "evalue": "Network.feedforward() missing 1 required positional argument: 'a'",
     "output_type": "error",
     "traceback": [
      "\u001b[0;31m---------------------------------------------------------------------------\u001b[0m",
      "\u001b[0;31mTypeError\u001b[0m                                 Traceback (most recent call last)",
      "Cell \u001b[0;32mIn[76], line 1\u001b[0m\n\u001b[0;32m----> 1\u001b[0m \u001b[43mNetwork\u001b[49m\u001b[38;5;241;43m.\u001b[39;49m\u001b[43mfeedforward\u001b[49m\u001b[43m(\u001b[49m\u001b[43ma\u001b[49m\u001b[43m)\u001b[49m\n",
      "\u001b[0;31mTypeError\u001b[0m: Network.feedforward() missing 1 required positional argument: 'a'"
     ]
    }
   ],
   "source": [
    "Network.feedforward(a)"
   ]
  },
  {
   "cell_type": "code",
   "execution_count": null,
   "id": "a5e17463-fb73-4753-addc-f85e43c1ba6a",
   "metadata": {},
   "outputs": [],
   "source": []
  }
 ],
 "metadata": {
  "kernelspec": {
   "display_name": "Python 3 (ipykernel)",
   "language": "python",
   "name": "python3"
  },
  "language_info": {
   "codemirror_mode": {
    "name": "ipython",
    "version": 3
   },
   "file_extension": ".py",
   "mimetype": "text/x-python",
   "name": "python",
   "nbconvert_exporter": "python",
   "pygments_lexer": "ipython3",
   "version": "3.10.9"
  }
 },
 "nbformat": 4,
 "nbformat_minor": 5
}
